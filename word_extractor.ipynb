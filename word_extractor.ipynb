{
  "nbformat": 4,
  "nbformat_minor": 0,
  "metadata": {
    "colab": {
      "name": "word_extractor.ipynb",
      "provenance": [],
      "collapsed_sections": [],
      "authorship_tag": "ABX9TyPrtDYLj2yAWeMy4diXFLhK",
      "include_colab_link": true
    },
    "kernelspec": {
      "name": "python3",
      "display_name": "Python 3"
    }
  },
  "cells": [
    {
      "cell_type": "markdown",
      "metadata": {
        "id": "view-in-github",
        "colab_type": "text"
      },
      "source": [
        "<a href=\"https://colab.research.google.com/github/matthewsillence/educational_discourse/blob/master/word_extractor.ipynb\" target=\"_parent\"><img src=\"https://colab.research.google.com/assets/colab-badge.svg\" alt=\"Open In Colab\"/></a>"
      ]
    },
    {
      "cell_type": "code",
      "metadata": {
        "id": "UnJ7CSpYQuXP",
        "outputId": "3ca22657-0586-49cc-b7d3-562189936b9c",
        "colab": {
          "base_uri": "https://localhost:8080/",
          "height": 176
        }
      },
      "source": [
        "!pip install docx2txt"
      ],
      "execution_count": 1,
      "outputs": [
        {
          "output_type": "stream",
          "text": [
            "Collecting docx2txt\n",
            "  Downloading https://files.pythonhosted.org/packages/7d/7d/60ee3f2b16d9bfdfa72e8599470a2c1a5b759cb113c6fe1006be28359327/docx2txt-0.8.tar.gz\n",
            "Building wheels for collected packages: docx2txt\n",
            "  Building wheel for docx2txt (setup.py) ... \u001b[?25l\u001b[?25hdone\n",
            "  Created wheel for docx2txt: filename=docx2txt-0.8-cp36-none-any.whl size=3965 sha256=241857eccbda0b1cf6b3e6853fa0d93a884cda7bca0825da2f732d4823fa5c90\n",
            "  Stored in directory: /root/.cache/pip/wheels/b2/1f/26/a051209bbb77fc6bcfae2bb7e01fa0ff941b82292ab084d596\n",
            "Successfully built docx2txt\n",
            "Installing collected packages: docx2txt\n",
            "Successfully installed docx2txt-0.8\n"
          ],
          "name": "stdout"
        }
      ]
    },
    {
      "cell_type": "code",
      "metadata": {
        "id": "P4ft08liUJ6L"
      },
      "source": [
        "import pprint"
      ],
      "execution_count": 15,
      "outputs": []
    },
    {
      "cell_type": "code",
      "metadata": {
        "id": "CjAAxxL1TAtI"
      },
      "source": [
        "import docx2txt\n",
        " \n",
        "# read in word file\n",
        "result = docx2txt.process(\"/content/Scenario 1.docx\")\n",
        "pprint.pprint(result)"
      ],
      "execution_count": null,
      "outputs": []
    },
    {
      "cell_type": "code",
      "metadata": {
        "id": "AF9wZub7Vbzk"
      },
      "source": [
        "str2 = str.replace(result,\"\\n\", \"\")"
      ],
      "execution_count": 18,
      "outputs": []
    },
    {
      "cell_type": "code",
      "metadata": {
        "id": "lIE6yIIEVn4k",
        "outputId": "62ec546f-44b3-4f34-f558-ac75c7e4fed2",
        "colab": {
          "base_uri": "https://localhost:8080/",
          "height": 1000
        }
      },
      "source": [
        "pprint.pprint(str2)"
      ],
      "execution_count": 21,
      "outputs": [
        {
          "output_type": "stream",
          "text": [
            "('Postgraduate Research Supervision ScenariosThe following structure has been '\n",
            " 'adapted from:Eley, A. R. and R. Jennings. 2005. Effective Postgraduate '\n",
            " 'Supervision: Improving the Student/Supervisor Relationship. Maidenhead: Open '\n",
            " 'University Press.Scenario: John’s StoryJohn Toynbee is in his mid-fifties, '\n",
            " 'and was returning to higher education after working in the media covering '\n",
            " 'religious and political interest stories in London as a journalist.  '\n",
            " 'Following a BA in History and Master’s degree in political science.John '\n",
            " 'studies full-time at the University, but he is based in Camden, and only '\n",
            " 'visits the campus occasionally, on average once a month.  His research '\n",
            " 'project examines the use of social media by different groups of religious '\n",
            " 'extremists in Britain. Coming from a media background, John was clear with '\n",
            " 'the University about the focus of his project, and was advised by his '\n",
            " 'supervisory team to seek Ethics Approval for his project because of his work '\n",
            " 'with human participants.  Part of his work is based around several '\n",
            " 'interviews with former members of extremist groups, and with religious '\n",
            " 'leaders in local communities in the London area.Points for consideration '\n",
            " 'John started in October.  In his first year, he focused on a survey of '\n",
            " 'websites and social media channels to identify his sample of organizations '\n",
            " 'that he planned to investigate. Part of the work involved generating a '\n",
            " 'research database, and his supervisor advised him to seek advice on '\n",
            " 'designing this. Much of his time in the first year was spent on this aspect '\n",
            " 'of the project. By the Easter vacation, his supervisory team requested a '\n",
            " 'summary of the literature in the field. At this stage John sent a longer '\n",
            " 'version of his original research proposal to his supervisory team.Points for '\n",
            " 'consideration Soon after, John and his supervisors received an email about '\n",
            " 'the Annual Progress Review.  John made the trip to Norwich to meet with his '\n",
            " 'supervisors, who discussed in detail his work on the database.  They also '\n",
            " 'reminded John that he would need to send them his literature review, but '\n",
            " 'John was surprised – he had already done so. He was asked to ‘expand on the '\n",
            " 'original proposal with clear reference to current literature in the field’. '\n",
            " 'As much of John’s preliminary work was online, he began to update the '\n",
            " 'proposal with references to online articles and social media posts that he '\n",
            " 'had been recording in the database. This took several more weeks of work, '\n",
            " 'and during the spring he was given the opportunity of meeting with three '\n",
            " 'former members of an extremist group to begin interviewing.Points for '\n",
            " 'consideration At this time, the Postgraduate Research Service sent a '\n",
            " 'reminder to John’s supervisors about the Probationary Review Process. Both '\n",
            " 'were concerned as they had not heard from John in almost two months.  They '\n",
            " 'arranged for a panel of Faculty members for the Probationary Review panel '\n",
            " 'meeting, and a date was sent to John. It happened to coincide with the day '\n",
            " 'that he could meet the last of his interview participants, who was only '\n",
            " 'available that evening in Camden. John was sure that he could make it to '\n",
            " 'Norwich and back in the same day and still have time for the interview in '\n",
            " 'the evening, so he contacted his supervisors and agreed to the time.Points '\n",
            " 'for considerationWith three weeks until the panel date, John checked the '\n",
            " 'documents he would require for the panel – he was surprised to see that in '\n",
            " 'addition to an outline of his research, he also needed a chapter of the '\n",
            " 'thesis.  He decided to focus on his research design, and began to write an '\n",
            " 'introductory chapter based around his database, its structure, and the data '\n",
            " 'he was collecting.  He also ‘expanded’ his original research proposal and '\n",
            " 'quickly drafted a plan for the next two years of research and writing, with '\n",
            " 'his provision chapter titles, which compared the internet data and his '\n",
            " 'interviews.  This was complete in a week – John was used to tight deadlines '\n",
            " 'from his former career – and copies were sent to the panel members.Points '\n",
            " 'for consideration On the day of the panel meeting, John was distracted – he '\n",
            " 'was focused on the interview he had planned that evening, and was puzzled as '\n",
            " 'to why the panel members kept referring to sources he had never heard of, '\n",
            " 'and theorists he did not think were relevant to his project.  When they '\n",
            " 'asked him which current articles he had consulted over the last year, he '\n",
            " 'replied that he had focused on the blogs as primary sources and that he was '\n",
            " 'planning to approach the academic literature next year.  The panel members '\n",
            " 'thanked John for his time and said that they would need to speak to his '\n",
            " 'primary supervisor as they had a number of questions.  John had to leave '\n",
            " 'quickly to catch the next train to London, and began preparing for his '\n",
            " 'interview.Points for consideration Some days later, when John received the '\n",
            " 'panel’s report he was devastated. Despite all his hard work, he had been '\n",
            " 'asked to resubmit his work for review. The panel cited ‘several omissions of '\n",
            " 'key literature in the field which would have provided a clearer context and '\n",
            " 'rationale for this study’, as well as ‘a research question that remains '\n",
            " 'ambiguous – we would have preferred a clearer direction for the student’s '\n",
            " 'research, which would match the schedule of work’. Points for consideration '\n",
            " 'Evolution of the problem: (short summary of the sequence of events – cause '\n",
            " 'and effect)Possible prevention and resolution of the problem: (list of '\n",
            " 'statements and recommendations)3')\n"
          ],
          "name": "stdout"
        }
      ]
    }
  ]
}