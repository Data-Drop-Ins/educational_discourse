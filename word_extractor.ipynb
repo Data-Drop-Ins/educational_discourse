{
  "nbformat": 4,
  "nbformat_minor": 0,
  "metadata": {
    "colab": {
      "name": "word_extractor.ipynb",
      "provenance": [],
      "collapsed_sections": [],
      "authorship_tag": "ABX9TyOjzT/DgQidPde2ehXrlblA",
      "include_colab_link": true
    },
    "kernelspec": {
      "name": "python3",
      "display_name": "Python 3"
    }
  },
  "cells": [
    {
      "cell_type": "markdown",
      "metadata": {
        "id": "view-in-github",
        "colab_type": "text"
      },
      "source": [
        "<a href=\"https://colab.research.google.com/github/matthewsillence/educational_discourse/blob/master/word_extractor.ipynb\" target=\"_parent\"><img src=\"https://colab.research.google.com/assets/colab-badge.svg\" alt=\"Open In Colab\"/></a>"
      ]
    },
    {
      "cell_type": "code",
      "metadata": {
        "id": "UnJ7CSpYQuXP",
        "outputId": "0d5c654f-1f92-40ff-be66-18af7c28c1c4",
        "colab": {
          "base_uri": "https://localhost:8080/",
          "height": 190
        }
      },
      "source": [
        "!pip install docx2txt"
      ],
      "execution_count": 1,
      "outputs": [
        {
          "output_type": "stream",
          "text": [
            "Collecting docx2txt\n",
            "  Downloading https://files.pythonhosted.org/packages/7d/7d/60ee3f2b16d9bfdfa72e8599470a2c1a5b759cb113c6fe1006be28359327/docx2txt-0.8.tar.gz\n",
            "Building wheels for collected packages: docx2txt\n",
            "  Building wheel for docx2txt (setup.py) ... \u001b[?25l\u001b[?25hdone\n",
            "  Created wheel for docx2txt: filename=docx2txt-0.8-cp36-none-any.whl size=3965 sha256=74b19fea3eed3b3b2ddf2c182a0dfda5a1008c1b995808c07e73d02196752e83\n",
            "  Stored in directory: /root/.cache/pip/wheels/b2/1f/26/a051209bbb77fc6bcfae2bb7e01fa0ff941b82292ab084d596\n",
            "Successfully built docx2txt\n",
            "Installing collected packages: docx2txt\n",
            "Successfully installed docx2txt-0.8\n"
          ],
          "name": "stdout"
        }
      ]
    },
    {
      "cell_type": "code",
      "metadata": {
        "id": "P4ft08liUJ6L"
      },
      "source": [
        "import pprint"
      ],
      "execution_count": 2,
      "outputs": []
    },
    {
      "cell_type": "code",
      "metadata": {
        "id": "CjAAxxL1TAtI"
      },
      "source": [
        "import docx2txt\n",
        " \n",
        "# read in word file\n",
        "result = docx2txt.process(\"/content/Scenario 1.docx\")\n",
        "pprint.pprint(result)"
      ],
      "execution_count": null,
      "outputs": []
    },
    {
      "cell_type": "code",
      "metadata": {
        "id": "AF9wZub7Vbzk"
      },
      "source": [
        "td_05 = str.replace(result,\"\\n\", \"\")"
      ],
      "execution_count": 4,
      "outputs": []
    },
    {
      "cell_type": "code",
      "metadata": {
        "id": "lIE6yIIEVn4k"
      },
      "source": [
        "pprint.pprint(td_05)"
      ],
      "execution_count": null,
      "outputs": []
    },
    {
      "cell_type": "code",
      "metadata": {
        "id": "gS1RWuYMwhu0"
      },
      "source": [
        "with open(\"td_05.txt\", \"w\") as text_file:\n",
        "    text_file.write(td_05)"
      ],
      "execution_count": 6,
      "outputs": []
    },
    {
      "cell_type": "code",
      "metadata": {
        "id": "f4B6bs6lys84"
      },
      "source": [
        "import docx2txt\n",
        " \n",
        "# read in word file\n",
        "result = docx2txt.process(\"/content/Scenario 2.docx\")\n",
        "pprint.pprint(result)"
      ],
      "execution_count": null,
      "outputs": []
    },
    {
      "cell_type": "code",
      "metadata": {
        "id": "flvkVrRFyyYy"
      },
      "source": [
        "td_06 = str.replace(result,\"\\n\", \"\")"
      ],
      "execution_count": 8,
      "outputs": []
    },
    {
      "cell_type": "code",
      "metadata": {
        "id": "B5ACrhiby1ZX"
      },
      "source": [
        "pprint.pprint(td_06)"
      ],
      "execution_count": null,
      "outputs": []
    },
    {
      "cell_type": "code",
      "metadata": {
        "id": "qk0oOmu1y3Rz"
      },
      "source": [
        "with open(\"td_06.txt\", \"w\") as text_file:\n",
        "    text_file.write(td_06)"
      ],
      "execution_count": 10,
      "outputs": []
    },
    {
      "cell_type": "code",
      "metadata": {
        "id": "JJnmG6nQzCcb"
      },
      "source": [
        "import docx2txt\n",
        " \n",
        "# read in word file\n",
        "result = docx2txt.process(\"/content/Scenario 3.docx\")\n",
        "pprint.pprint(result)"
      ],
      "execution_count": null,
      "outputs": []
    },
    {
      "cell_type": "code",
      "metadata": {
        "id": "7sXxdf2MzHCC"
      },
      "source": [
        "td_07 = str.replace(result,\"\\n\", \"\")"
      ],
      "execution_count": 12,
      "outputs": []
    },
    {
      "cell_type": "code",
      "metadata": {
        "id": "xhy1ocVqzJk6"
      },
      "source": [
        "pprint.pprint(td_07)"
      ],
      "execution_count": null,
      "outputs": []
    },
    {
      "cell_type": "code",
      "metadata": {
        "id": "uqHRchaUzLTx"
      },
      "source": [
        "with open(\"td_07.txt\", \"w\") as text_file:\n",
        "    text_file.write(td_07)"
      ],
      "execution_count": 14,
      "outputs": []
    },
    {
      "cell_type": "code",
      "metadata": {
        "id": "XeWLY1VGzTgC"
      },
      "source": [
        "import docx2txt\n",
        " \n",
        "# read in word file\n",
        "result = docx2txt.process(\"/content/Scenario 4.docx\")\n",
        "pprint.pprint(result)"
      ],
      "execution_count": null,
      "outputs": []
    },
    {
      "cell_type": "code",
      "metadata": {
        "id": "Ju4whJjAzX2r"
      },
      "source": [
        "td_08 = str.replace(result,\"\\n\", \"\")"
      ],
      "execution_count": 16,
      "outputs": []
    },
    {
      "cell_type": "code",
      "metadata": {
        "id": "a43rOXbvzadZ"
      },
      "source": [
        "pprint.pprint(td_08)"
      ],
      "execution_count": null,
      "outputs": []
    },
    {
      "cell_type": "code",
      "metadata": {
        "id": "TzVTblGhzdKB"
      },
      "source": [
        "with open(\"td_08.txt\", \"w\") as text_file:\n",
        "    text_file.write(td_08)"
      ],
      "execution_count": 18,
      "outputs": []
    }
  ]
}