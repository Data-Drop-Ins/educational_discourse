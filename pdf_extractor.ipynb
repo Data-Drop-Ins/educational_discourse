{
  "nbformat": 4,
  "nbformat_minor": 0,
  "metadata": {
    "colab": {
      "name": "pdf_extractor.ipynb",
      "provenance": [],
      "collapsed_sections": [],
      "authorship_tag": "ABX9TyM8mtDS8jWgHIi9qKJZcaSE",
      "include_colab_link": true
    },
    "kernelspec": {
      "name": "python3",
      "display_name": "Python 3"
    }
  },
  "cells": [
    {
      "cell_type": "markdown",
      "metadata": {
        "id": "view-in-github",
        "colab_type": "text"
      },
      "source": [
        "<a href=\"https://colab.research.google.com/github/matthewsillence/educational_discourse/blob/master/pdf_extractor.ipynb\" target=\"_parent\"><img src=\"https://colab.research.google.com/assets/colab-badge.svg\" alt=\"Open In Colab\"/></a>"
      ]
    },
    {
      "cell_type": "code",
      "metadata": {
        "id": "RcmBFjaO3qME"
      },
      "source": [
        "### Check version of PyPDF2\n",
        "!pip show pyPDF2"
      ],
      "execution_count": null,
      "outputs": []
    },
    {
      "cell_type": "code",
      "metadata": {
        "id": "tq6RAgtn4ulI"
      },
      "source": [
        "### Alternate installation of PyPDF2 \n",
        "!apt-get install python3-pypdf2"
      ],
      "execution_count": null,
      "outputs": []
    },
    {
      "cell_type": "code",
      "metadata": {
        "id": "MkS5MIkG5bAz"
      },
      "source": [
        "### Import PyPDF2 package\n",
        "import PyPDF2"
      ],
      "execution_count": 20,
      "outputs": []
    },
    {
      "cell_type": "code",
      "metadata": {
        "id": "UL4Z1TKgXPnK"
      },
      "source": [
        "### Open PDF with PyPDF2\n",
        "with open('/content/advice-and-guidance-research-degrees.pdf','rb') as pdf_file, open('sample.txt', 'w') as text_file:\n",
        "    read_pdf = PyPDF2.PdfFileReader(pdf_file)\n",
        "    number_of_pages = read_pdf.getNumPages()\n",
        "### Create loop for pages, extract text and write to file\n",
        "    for page_number in range(number_of_pages):   # use xrange in Py2\n",
        "        page = read_pdf.getPage(page_number)\n",
        "        page_content = page.extractText()\n",
        "        text_file.write(page_content)"
      ],
      "execution_count": null,
      "outputs": []
    },
    {
      "cell_type": "code",
      "metadata": {
        "id": "oMnlwE8s71Oj"
      },
      "source": [
        "### Check pdf is encrypted or not\n",
        "read_pdf.getIsEncrypted()"
      ],
      "execution_count": null,
      "outputs": []
    },
    {
      "cell_type": "code",
      "metadata": {
        "id": "Jj2oKDMH7448"
      },
      "source": [
        "### Check no. of pages\n",
        "read_pdf.numPages"
      ],
      "execution_count": null,
      "outputs": []
    },
    {
      "cell_type": "code",
      "metadata": {
        "id": "LuwPu8hM79oL"
      },
      "source": [
        "### Extract text from specific page number and split into lines\n",
        "page1 = read_pdf.getPage(1)\n",
        "page1.extractText().split('\\n')\n"
      ],
      "execution_count": null,
      "outputs": []
    },
    {
      "cell_type": "code",
      "metadata": {
        "id": "4A1hb8VJEyiT"
      },
      "source": [
        "### Print nlpage1 text\n",
        "nlpage1 = page1.extractText().split('\\n')\n",
        "print(nlpage1)"
      ],
      "execution_count": null,
      "outputs": []
    },
    {
      "cell_type": "code",
      "metadata": {
        "id": "0wWMrjDlcbgY"
      },
      "source": [
        "### Check type of variable\n",
        "type(nlpage1)"
      ],
      "execution_count": null,
      "outputs": []
    },
    {
      "cell_type": "code",
      "metadata": {
        "id": "96cetDv7dRD-"
      },
      "source": [
        "### Print out using the join() method\n",
        "inp_list = nlpage1 \n",
        "out_str = \" \"\n",
        "print(out_str.join(inp_list))"
      ],
      "execution_count": null,
      "outputs": []
    },
    {
      "cell_type": "code",
      "metadata": {
        "id": "mgYW-WP-LcQY"
      },
      "source": [
        "### Import PrettyPrint\n",
        "import pprint"
      ],
      "execution_count": 12,
      "outputs": []
    },
    {
      "cell_type": "code",
      "metadata": {
        "id": "XlwCaWPzeDN_"
      },
      "source": [
        "### Print using PrettyPrint for increased legibility\n",
        "pprint.pprint(out_str.join(inp_list))"
      ],
      "execution_count": null,
      "outputs": []
    },
    {
      "cell_type": "code",
      "metadata": {
        "id": "hDo1NUr4fAsm"
      },
      "source": [
        "### Check variable type\n",
        "type(out_str.join(inp_list))"
      ],
      "execution_count": null,
      "outputs": []
    },
    {
      "cell_type": "code",
      "metadata": {
        "id": "2jQRS6DhHhcn"
      },
      "source": [
        "### Set raw text\n",
        "raw = out_str.join(inp_list)"
      ],
      "execution_count": 15,
      "outputs": []
    },
    {
      "cell_type": "code",
      "metadata": {
        "id": "ylHzolxnMWYg"
      },
      "source": [
        "### Write out raw text to a text file\n",
        "text_file = open(\"raw.txt\", \"w\")\n",
        "text_file.write(raw)\n",
        "text_file.close()"
      ],
      "execution_count": null,
      "outputs": []
    },
    {
      "cell_type": "code",
      "metadata": {
        "id": "LpsyNLlWQims"
      },
      "source": [
        "# Trim leading space\n",
        "\n",
        "F_IN = 'raw.txt'\n",
        "F_OUT = 'raw_trimmed.txt'\n",
        "\n",
        "with open(F_IN, 'r', encoding='utf-8', newline='\\n') as f_in:\n",
        "    lines = f_in.readlines()\n",
        "\n",
        "with open(F_OUT, 'w', encoding='utf-8', newline='\\n') as f_out:\n",
        "    for line in lines:\n",
        "        f_out.write(line.strip() + '\\n')"
      ],
      "execution_count": null,
      "outputs": []
    },
    {
      "cell_type": "code",
      "metadata": {
        "id": "3guXGhMxSyci"
      },
      "source": [
        "!apt-get install python3-nltk"
      ],
      "execution_count": null,
      "outputs": []
    },
    {
      "cell_type": "code",
      "metadata": {
        "id": "iqkmhsQ3Sps0"
      },
      "source": [
        "### Tokenize text\n",
        "\n",
        "import nltk\n",
        "nltk.download('punkt')\n",
        "\n",
        "F_IN = 'raw_trimmed.txt'\n",
        "\n",
        "with open(F_IN, 'r', encoding='utf-8', newline='\\n') as f_in:\n",
        "    raw_text = f_in.read()\n",
        "    tokens = nltk.word_tokenize(raw_text)\n",
        "    print(len(tokens))\n",
        "    print()\n",
        "    pprint.pprint(tokens[:100])"
      ],
      "execution_count": null,
      "outputs": []
    },
    {
      "cell_type": "code",
      "metadata": {
        "id": "ixX-adq2VBeZ"
      },
      "source": [
        "### Print most frequent tokens\n",
        "\n",
        "with open(F_IN, 'r', encoding='utf-8', newline='\\n') as f_in:\n",
        "    raw_text = f_in.read()\n",
        "    tokens = nltk.word_tokenize(raw_text)\n",
        "    freq_dist = nltk.FreqDist(tokens)\n",
        "    pprint.pprint(freq_dist.most_common(50))\n",
        "    "
      ],
      "execution_count": null,
      "outputs": []
    },
    {
      "cell_type": "code",
      "metadata": {
        "id": "By94SyA7a_qL"
      },
      "source": [
        "### Check type of variable\n",
        "type(freq_dist.most_common(50))"
      ],
      "execution_count": null,
      "outputs": []
    },
    {
      "cell_type": "code",
      "metadata": {
        "id": "0p7myytta80X"
      },
      "source": [
        "### Import array from numpy\n",
        "import numpy as np\n",
        "from numpy import array"
      ],
      "execution_count": null,
      "outputs": []
    },
    {
      "cell_type": "code",
      "metadata": {
        "id": "pcXzIIpOb-9g"
      },
      "source": [
        "### Convert list to array\n",
        "np.array(freq_dist.most_common(50))"
      ],
      "execution_count": null,
      "outputs": []
    },
    {
      "cell_type": "code",
      "metadata": {
        "id": "pfg0nxv4cDKE"
      },
      "source": [
        "### Set array as results\n",
        "results = np.array(freq_dist.most_common(50))"
      ],
      "execution_count": null,
      "outputs": []
    },
    {
      "cell_type": "code",
      "metadata": {
        "id": "spIGPRSLhWhD"
      },
      "source": [
        "type(results)"
      ],
      "execution_count": null,
      "outputs": []
    }
  ]
}