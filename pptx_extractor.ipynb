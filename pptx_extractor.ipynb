{
  "nbformat": 4,
  "nbformat_minor": 0,
  "metadata": {
    "colab": {
      "name": "pptx_extractor.ipynb",
      "provenance": [],
      "collapsed_sections": [],
      "authorship_tag": "ABX9TyPvQt/0FXRlt0aDwRoW96My",
      "include_colab_link": true
    },
    "kernelspec": {
      "name": "python3",
      "display_name": "Python 3"
    }
  },
  "cells": [
    {
      "cell_type": "markdown",
      "metadata": {
        "id": "view-in-github",
        "colab_type": "text"
      },
      "source": [
        "<a href=\"https://colab.research.google.com/github/matthewsillence/educational_discourse/blob/master/pptx_extractor.ipynb\" target=\"_parent\"><img src=\"https://colab.research.google.com/assets/colab-badge.svg\" alt=\"Open In Colab\"/></a>"
      ]
    },
    {
      "cell_type": "code",
      "metadata": {
        "id": "yxy-8OE1WshG",
        "outputId": "5af0ea4b-0363-4c02-ca21-17cbc75e219f",
        "colab": {
          "base_uri": "https://localhost:8080/",
          "height": 292
        }
      },
      "source": [
        "!pip install python-pptx"
      ],
      "execution_count": 1,
      "outputs": [
        {
          "output_type": "stream",
          "text": [
            "Collecting python-pptx\n",
            "\u001b[?25l  Downloading https://files.pythonhosted.org/packages/bf/86/eb979f7b0333ec769041aae36df8b9f1bd8bea5bbad44620663890dce561/python-pptx-0.6.18.tar.gz (8.9MB)\n",
            "\u001b[K     |████████████████████████████████| 8.9MB 7.4MB/s \n",
            "\u001b[?25hRequirement already satisfied: lxml>=3.1.0 in /usr/local/lib/python3.6/dist-packages (from python-pptx) (4.2.6)\n",
            "Requirement already satisfied: Pillow>=3.3.2 in /usr/local/lib/python3.6/dist-packages (from python-pptx) (7.0.0)\n",
            "Collecting XlsxWriter>=0.5.7\n",
            "\u001b[?25l  Downloading https://files.pythonhosted.org/packages/6b/41/bf1aae04932d1eaffee1fc5f8b38ca47bbbf07d765129539bc4bcce1ce0c/XlsxWriter-1.3.7-py2.py3-none-any.whl (144kB)\n",
            "\u001b[K     |████████████████████████████████| 153kB 71.7MB/s \n",
            "\u001b[?25hBuilding wheels for collected packages: python-pptx\n",
            "  Building wheel for python-pptx (setup.py) ... \u001b[?25l\u001b[?25hdone\n",
            "  Created wheel for python-pptx: filename=python_pptx-0.6.18-cp36-none-any.whl size=275707 sha256=0df50ba3e81cb9949c9d13cf53d86d454bfa21703756d53593749520cabba232\n",
            "  Stored in directory: /root/.cache/pip/wheels/1f/1f/2c/29acca422b420a0b5210bd2cd7e9669804520d602d2462f20b\n",
            "Successfully built python-pptx\n",
            "Installing collected packages: XlsxWriter, python-pptx\n",
            "Successfully installed XlsxWriter-1.3.7 python-pptx-0.6.18\n"
          ],
          "name": "stdout"
        }
      ]
    },
    {
      "cell_type": "code",
      "metadata": {
        "id": "Sp2kSPEvXwM6"
      },
      "source": [
        "import pptx"
      ],
      "execution_count": 2,
      "outputs": []
    },
    {
      "cell_type": "code",
      "metadata": {
        "id": "ifQxAN2JXBX8"
      },
      "source": [
        "from pptx import Presentation\n",
        "\n",
        "prs = Presentation('/content/Why is effective supervision vital.pptx')\n",
        "\n",
        "# text_runs will be populated with a list of strings,\n",
        "# one for each text run in presentation\n",
        "why = []\n",
        "\n",
        "for slide in prs.slides:\n",
        "    for shape in slide.shapes:\n",
        "        if not shape.has_text_frame:\n",
        "            continue\n",
        "        for paragraph in shape.text_frame.paragraphs:\n",
        "            for run in paragraph.runs:\n",
        "                why.append(run.text)"
      ],
      "execution_count": 16,
      "outputs": []
    },
    {
      "cell_type": "code",
      "metadata": {
        "id": "UOJAIvlYYb-h"
      },
      "source": [
        "import pprint"
      ],
      "execution_count": 17,
      "outputs": []
    },
    {
      "cell_type": "code",
      "metadata": {
        "id": "ZA8nudf8YYa7"
      },
      "source": [
        "pprint.pprint(why)"
      ],
      "execution_count": null,
      "outputs": []
    },
    {
      "cell_type": "code",
      "metadata": {
        "id": "m5271IoQYjcC",
        "outputId": "fe98368d-2cec-4adc-f98d-0812147d06bb",
        "colab": {
          "base_uri": "https://localhost:8080/",
          "height": 34
        }
      },
      "source": [
        "type(why)"
      ],
      "execution_count": 19,
      "outputs": [
        {
          "output_type": "execute_result",
          "data": {
            "text/plain": [
              "list"
            ]
          },
          "metadata": {
            "tags": []
          },
          "execution_count": 19
        }
      ]
    },
    {
      "cell_type": "code",
      "metadata": {
        "id": "QONHyoNvnWvo"
      },
      "source": [
        "inp_list = why\n",
        " \n",
        "td_01 = ' '.join([str(item) for item in inp_list]) \n",
        "print(\"Converting list to atring using List Comprehension:\\n\")\n",
        "pprint.pprint(td_01) "
      ],
      "execution_count": null,
      "outputs": []
    },
    {
      "cell_type": "code",
      "metadata": {
        "id": "cPp2xLatn1D1",
        "outputId": "d11e27d0-bc98-46de-b79b-b61080c7861c",
        "colab": {
          "base_uri": "https://localhost:8080/",
          "height": 34
        }
      },
      "source": [
        "type(td_01)"
      ],
      "execution_count": 22,
      "outputs": [
        {
          "output_type": "execute_result",
          "data": {
            "text/plain": [
              "str"
            ]
          },
          "metadata": {
            "tags": []
          },
          "execution_count": 22
        }
      ]
    },
    {
      "cell_type": "code",
      "metadata": {
        "id": "ACgkRh41pGvE"
      },
      "source": [
        "with open(\"td_01.txt\", \"w\") as text_file:\n",
        "    text_file.write(td_01)"
      ],
      "execution_count": 23,
      "outputs": []
    },
    {
      "cell_type": "code",
      "metadata": {
        "id": "xzOjUicCrkNH"
      },
      "source": [
        "from pptx import Presentation\n",
        "\n",
        "prs = Presentation('/content/Key events and potential problems.pptx')\n",
        "\n",
        "# key_events will be populated with a list of strings,\n",
        "# one for each text run in presentation\n",
        "key_events = []\n",
        "\n",
        "for slide in prs.slides:\n",
        "    for shape in slide.shapes:\n",
        "        if not shape.has_text_frame:\n",
        "            continue\n",
        "        for paragraph in shape.text_frame.paragraphs:\n",
        "            for run in paragraph.runs:\n",
        "                key_events.append(run.text)"
      ],
      "execution_count": 25,
      "outputs": []
    },
    {
      "cell_type": "code",
      "metadata": {
        "id": "VR6WNmvSr0TO"
      },
      "source": [
        "pprint.pprint(key_events)"
      ],
      "execution_count": null,
      "outputs": []
    },
    {
      "cell_type": "code",
      "metadata": {
        "id": "NTb_VRBftBuV"
      },
      "source": [
        "inp_list = key_events\n",
        " \n",
        "td_02 = ' '.join([str(item) for item in inp_list]) \n",
        "print(\"Converting list to atring using List Comprehension:\\n\")\n",
        "pprint.pprint(td_02) "
      ],
      "execution_count": null,
      "outputs": []
    },
    {
      "cell_type": "code",
      "metadata": {
        "id": "x9nYx_1Gs1HG"
      },
      "source": [
        "with open(\"td_02.txt\", \"w\") as text_file:\n",
        "    text_file.write(td_02)"
      ],
      "execution_count": 30,
      "outputs": []
    },
    {
      "cell_type": "code",
      "metadata": {
        "id": "lJyfSIKDt1Qz"
      },
      "source": [
        "from pptx import Presentation\n",
        "\n",
        "prs = Presentation('/content/Recent and forthcoming changes.pptx')\n",
        "\n",
        "# recent_changes will be populated with a list of strings,\n",
        "# one for each text run in presentation\n",
        "recent_changes = []\n",
        "\n",
        "for slide in prs.slides:\n",
        "    for shape in slide.shapes:\n",
        "        if not shape.has_text_frame:\n",
        "            continue\n",
        "        for paragraph in shape.text_frame.paragraphs:\n",
        "            for run in paragraph.runs:\n",
        "                recent_changes.append(run.text)"
      ],
      "execution_count": 32,
      "outputs": []
    },
    {
      "cell_type": "code",
      "metadata": {
        "id": "P5oCME_euD2D"
      },
      "source": [
        "pprint.pprint(recent_changes)"
      ],
      "execution_count": null,
      "outputs": []
    },
    {
      "cell_type": "code",
      "metadata": {
        "id": "Y9s0sBTruMOW"
      },
      "source": [
        "inp_list = recent_changes\n",
        " \n",
        "td_03 = ' '.join([str(item) for item in inp_list]) \n",
        "print(\"Converting list to atring using List Comprehension:\\n\")\n",
        "pprint.pprint(td_03) "
      ],
      "execution_count": null,
      "outputs": []
    },
    {
      "cell_type": "code",
      "metadata": {
        "id": "NX8gTL-RuR5b"
      },
      "source": [
        "with open(\"td_03.txt\", \"w\") as text_file:\n",
        "    text_file.write(td_03)"
      ],
      "execution_count": 35,
      "outputs": []
    },
    {
      "cell_type": "code",
      "metadata": {
        "id": "A4_L53Q0uZPI"
      },
      "source": [
        "from pptx import Presentation\n",
        "\n",
        "prs = Presentation('/content/Supervisor PPD.pptx')\n",
        "\n",
        "# ppd will be populated with a list of strings,\n",
        "# one for each text run in presentation\n",
        "ppd = []\n",
        "\n",
        "for slide in prs.slides:\n",
        "    for shape in slide.shapes:\n",
        "        if not shape.has_text_frame:\n",
        "            continue\n",
        "        for paragraph in shape.text_frame.paragraphs:\n",
        "            for run in paragraph.runs:\n",
        "                ppd.append(run.text)"
      ],
      "execution_count": 38,
      "outputs": []
    },
    {
      "cell_type": "code",
      "metadata": {
        "id": "dBhWPtseu3zM"
      },
      "source": [
        "pprint.pprint(ppd)"
      ],
      "execution_count": null,
      "outputs": []
    },
    {
      "cell_type": "code",
      "metadata": {
        "id": "PRn6q2p_u-gR"
      },
      "source": [
        "inp_list = ppd\n",
        " \n",
        "td_04 = ' '.join([str(item) for item in inp_list]) \n",
        "print(\"Converting list to atring using List Comprehension:\\n\")\n",
        "pprint.pprint(td_04) "
      ],
      "execution_count": null,
      "outputs": []
    },
    {
      "cell_type": "code",
      "metadata": {
        "id": "-TKLNEYevJ2t"
      },
      "source": [
        "with open(\"td_04.txt\", \"w\") as text_file:\n",
        "    text_file.write(td_04)"
      ],
      "execution_count": 41,
      "outputs": []
    }
  ]
}