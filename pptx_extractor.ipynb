{
  "nbformat": 4,
  "nbformat_minor": 0,
  "metadata": {
    "colab": {
      "name": "pptx_extractor.ipynb",
      "provenance": [],
      "collapsed_sections": [],
      "authorship_tag": "ABX9TyNtncKS/jrRvR2UF8jVsuO9",
      "include_colab_link": true
    },
    "kernelspec": {
      "name": "python3",
      "display_name": "Python 3"
    }
  },
  "cells": [
    {
      "cell_type": "markdown",
      "metadata": {
        "id": "view-in-github",
        "colab_type": "text"
      },
      "source": [
        "<a href=\"https://colab.research.google.com/github/matthewsillence/educational_discourse/blob/master/pptx_extractor.ipynb\" target=\"_parent\"><img src=\"https://colab.research.google.com/assets/colab-badge.svg\" alt=\"Open In Colab\"/></a>"
      ]
    },
    {
      "cell_type": "code",
      "metadata": {
        "id": "yxy-8OE1WshG",
        "outputId": "5af0ea4b-0363-4c02-ca21-17cbc75e219f",
        "colab": {
          "base_uri": "https://localhost:8080/",
          "height": 292
        }
      },
      "source": [
        "!pip install python-pptx"
      ],
      "execution_count": 1,
      "outputs": [
        {
          "output_type": "stream",
          "text": [
            "Collecting python-pptx\n",
            "\u001b[?25l  Downloading https://files.pythonhosted.org/packages/bf/86/eb979f7b0333ec769041aae36df8b9f1bd8bea5bbad44620663890dce561/python-pptx-0.6.18.tar.gz (8.9MB)\n",
            "\u001b[K     |████████████████████████████████| 8.9MB 7.4MB/s \n",
            "\u001b[?25hRequirement already satisfied: lxml>=3.1.0 in /usr/local/lib/python3.6/dist-packages (from python-pptx) (4.2.6)\n",
            "Requirement already satisfied: Pillow>=3.3.2 in /usr/local/lib/python3.6/dist-packages (from python-pptx) (7.0.0)\n",
            "Collecting XlsxWriter>=0.5.7\n",
            "\u001b[?25l  Downloading https://files.pythonhosted.org/packages/6b/41/bf1aae04932d1eaffee1fc5f8b38ca47bbbf07d765129539bc4bcce1ce0c/XlsxWriter-1.3.7-py2.py3-none-any.whl (144kB)\n",
            "\u001b[K     |████████████████████████████████| 153kB 71.7MB/s \n",
            "\u001b[?25hBuilding wheels for collected packages: python-pptx\n",
            "  Building wheel for python-pptx (setup.py) ... \u001b[?25l\u001b[?25hdone\n",
            "  Created wheel for python-pptx: filename=python_pptx-0.6.18-cp36-none-any.whl size=275707 sha256=0df50ba3e81cb9949c9d13cf53d86d454bfa21703756d53593749520cabba232\n",
            "  Stored in directory: /root/.cache/pip/wheels/1f/1f/2c/29acca422b420a0b5210bd2cd7e9669804520d602d2462f20b\n",
            "Successfully built python-pptx\n",
            "Installing collected packages: XlsxWriter, python-pptx\n",
            "Successfully installed XlsxWriter-1.3.7 python-pptx-0.6.18\n"
          ],
          "name": "stdout"
        }
      ]
    },
    {
      "cell_type": "code",
      "metadata": {
        "id": "Sp2kSPEvXwM6"
      },
      "source": [
        "import pptx"
      ],
      "execution_count": 2,
      "outputs": []
    },
    {
      "cell_type": "code",
      "metadata": {
        "id": "ifQxAN2JXBX8"
      },
      "source": [
        "from pptx import Presentation\n",
        "\n",
        "prs = Presentation('/content/Why is effective supervision vital.pptx')\n",
        "\n",
        "# text_runs will be populated with a list of strings,\n",
        "# one for each text run in presentation\n",
        "text_runs = []\n",
        "\n",
        "for slide in prs.slides:\n",
        "    for shape in slide.shapes:\n",
        "        if not shape.has_text_frame:\n",
        "            continue\n",
        "        for paragraph in shape.text_frame.paragraphs:\n",
        "            for run in paragraph.runs:\n",
        "                text_runs.append(run.text)"
      ],
      "execution_count": 3,
      "outputs": []
    },
    {
      "cell_type": "code",
      "metadata": {
        "id": "UOJAIvlYYb-h"
      },
      "source": [
        "import pprint"
      ],
      "execution_count": 4,
      "outputs": []
    },
    {
      "cell_type": "code",
      "metadata": {
        "id": "ZA8nudf8YYa7",
        "outputId": "52063061-db0a-48fa-f3d5-ff2e93f13fcf",
        "colab": {
          "base_uri": "https://localhost:8080/",
          "height": 1000
        }
      },
      "source": [
        "pprint.pprint(text_runs)"
      ],
      "execution_count": 5,
      "outputs": [
        {
          "output_type": "stream",
          "text": [
            "['Postgraduate Research Supervisor Workshop Online Session',\n",
            " 'Part One: Why is Effective Supervision Vital?',\n",
            " 'Introduction',\n",
            " 'This presentation will take 10 minutes.',\n",
            " 'You can pause and replay parts of the presentation at any time.',\n",
            " 'The presentation will provide an overview of key information relating to '\n",
            " 'supervisory practices and there will be a chance to test your knowledge as '\n",
            " 'you progress.',\n",
            " 'Why is effective supervision vital?',\n",
            " 'Student experience – reputation, PRES',\n",
            " 'Why is effective supervision vital?',\n",
            " 'Timely completion of the thesis given considerable weight by the Research '\n",
            " 'Councils and HEFCE, as a determinant of the quality of research degree '\n",
            " 'programmes. ',\n",
            " 'AHRC penalise institutions with poor 4 year submission rates.',\n",
            " '\\xa0 ',\n",
            " 'Why is effective supervision vital?',\n",
            " 'Consistency and equity of treatment',\n",
            " 'Requirements of QAA Code of Practice Section 1',\n",
            " 'Cost of appeals/complaints (time, financial, personal)',\n",
            " 'Office of the Independent Adjudicator works on the basis of ‘benefit of '\n",
            " 'doubt’ in making decisions.',\n",
            " 'The Code of Practice',\n",
            " 'All supervisors must attend supervisory workshops every 3 years in order to '\n",
            " 'continue supervising',\n",
            " 'Supervisory meetings for full-time students ≥ 8 times per year, inc. 3 '\n",
            " 'formal progress meetings (must include all members of the supervisory team), '\n",
            " 'for part time students 4x per year, inc. 2 formal meetings',\n",
            " 'Clearly identify primary and secondary supervisors',\n",
            " 'The Code of Practice',\n",
            " 'Failure to engage with training requirements is a disciplinary matter under '\n",
            " 'General Regulation 13 Attendance, Engagement & Progress',\n",
            " 'Full-time students may undertake paid employment ≤ average of 6 hours per '\n",
            " 'week, 180 hours p.a.',\n",
            " 'Category A PGR candidates:',\n",
            " 'All academic staff',\n",
            " 'Honorary teaching and research appointments.',\n",
            " 'Research staff at affiliated Institutes',\n",
            " 'Test your knowledge',\n",
            " 'In this next section, you will be presented with a series of questions '\n",
            " 'relating to this section',\n",
            " 'Follow the instructions on screen to select your answer',\n",
            " 'At the end of the test you will have the option to review your answers '\n",
            " '(click ‘Next’ to move through each question)',\n",
            " 'When you have finished reviewing your answers click on ‘Continue’ to '\n",
            " 'complete the test and return to the presentation',\n",
            " 'End of section',\n",
            " 'This concludes part one of this course',\n",
            " 'Please close this window and return to the Online Training section in the '\n",
            " 'Blackboard Module to take the next part of the course.',\n",
            " 'Test: Why is effective supervision vital?',\n",
            " 'What is one of the most important reasons for effective supervision? (please '\n",
            " 'select one answer)',\n",
            " 'To support the timely completion of the thesis',\n",
            " 'It is a legal requirement of the University',\n",
            " 'To improve a School’s reputation in the Faculty',\n",
            " 'Test: Code of Practice',\n",
            " 'How often should you meet with a full-time student in the academic year? '\n",
            " '(Please select one answer)',\n",
            " 'As many times as the student requests it, but at least 3 formal meetings',\n",
            " 'As many times as I request it, but at least 3 formal meetings',\n",
            " 'At least 8 times a year, which should include 3 formal meetings',\n",
            " 'Up to 8 times a year, which should include 3 formal meetings',\n",
            " 'Test: Code of Practice',\n",
            " 'You are supervising a full-time student and she has told you that she has '\n",
            " 'received an offer to teach with a colleague in your School this year.  Do '\n",
            " 'you? (please select one answer)',\n",
            " 'Congratulate her and suggest that she teaches your second-year undergraduate '\n",
            " 'course as well (about 6 hours per week)',\n",
            " 'Congratulate her and ask her to check with your colleague how many hours she '\n",
            " 'will be teaching each week']\n"
          ],
          "name": "stdout"
        }
      ]
    },
    {
      "cell_type": "code",
      "metadata": {
        "id": "m5271IoQYjcC",
        "outputId": "51810f67-fc2f-43b4-8e1d-47da310f684a",
        "colab": {
          "base_uri": "https://localhost:8080/",
          "height": 34
        }
      },
      "source": [
        "type(text_runs)"
      ],
      "execution_count": 6,
      "outputs": [
        {
          "output_type": "execute_result",
          "data": {
            "text/plain": [
              "list"
            ]
          },
          "metadata": {
            "tags": []
          },
          "execution_count": 6
        }
      ]
    },
    {
      "cell_type": "code",
      "metadata": {
        "id": "QONHyoNvnWvo",
        "outputId": "e9c6031c-6e66-4b15-a916-083ffb0e3311",
        "colab": {
          "base_uri": "https://localhost:8080/",
          "height": 850
        }
      },
      "source": [
        "inp_list = text_runs\n",
        " \n",
        "res = ' '.join([str(item) for item in inp_list]) \n",
        "print(\"Converting list to atring using List Comprehension:\\n\")\n",
        "pprint.pprint(res) "
      ],
      "execution_count": 8,
      "outputs": [
        {
          "output_type": "stream",
          "text": [
            "Converting list to atring using List Comprehension:\n",
            "\n",
            "('Postgraduate Research Supervisor Workshop Online Session Part One: Why is '\n",
            " 'Effective Supervision Vital? Introduction This presentation will take 10 '\n",
            " 'minutes. You can pause and replay parts of the presentation at any time. The '\n",
            " 'presentation will provide an overview of key information relating to '\n",
            " 'supervisory practices and there will be a chance to test your knowledge as '\n",
            " 'you progress. Why is effective supervision vital? Student experience – '\n",
            " 'reputation, PRES Why is effective supervision vital? Timely completion of '\n",
            " 'the thesis given considerable weight by the Research Councils and HEFCE, as '\n",
            " 'a determinant of the quality of research degree programmes.  AHRC penalise '\n",
            " 'institutions with poor 4 year submission rates. \\xa0  Why is effective '\n",
            " 'supervision vital? Consistency and equity of treatment Requirements of QAA '\n",
            " 'Code of Practice Section 1 Cost of appeals/complaints (time, financial, '\n",
            " 'personal) Office of the Independent Adjudicator works on the basis of '\n",
            " '‘benefit of doubt’ in making decisions. The Code of Practice All supervisors '\n",
            " 'must attend supervisory workshops every 3 years in order to continue '\n",
            " 'supervising Supervisory meetings for full-time students ≥ 8 times per year, '\n",
            " 'inc. 3 formal progress meetings (must include all members of the supervisory '\n",
            " 'team), for part time students 4x per year, inc. 2 formal meetings Clearly '\n",
            " 'identify primary and secondary supervisors The Code of Practice Failure to '\n",
            " 'engage with training requirements is a disciplinary matter under General '\n",
            " 'Regulation 13 Attendance, Engagement & Progress Full-time students may '\n",
            " 'undertake paid employment ≤ average of 6 hours per week, 180 hours p.a. '\n",
            " 'Category A PGR candidates: All academic staff Honorary teaching and research '\n",
            " 'appointments. Research staff at affiliated Institutes Test your knowledge In '\n",
            " 'this next section, you will be presented with a series of questions relating '\n",
            " 'to this section Follow the instructions on screen to select your answer At '\n",
            " 'the end of the test you will have the option to review your answers (click '\n",
            " '‘Next’ to move through each question) When you have finished reviewing your '\n",
            " 'answers click on ‘Continue’ to complete the test and return to the '\n",
            " 'presentation End of section This concludes part one of this course Please '\n",
            " 'close this window and return to the Online Training section in the '\n",
            " 'Blackboard Module to take the next part of the course. Test: Why is '\n",
            " 'effective supervision vital? What is one of the most important reasons for '\n",
            " 'effective supervision? (please select one answer) To support the timely '\n",
            " 'completion of the thesis It is a legal requirement of the University To '\n",
            " 'improve a School’s reputation in the Faculty Test: Code of Practice How '\n",
            " 'often should you meet with a full-time student in the academic year? (Please '\n",
            " 'select one answer) As many times as the student requests it, but at least 3 '\n",
            " 'formal meetings As many times as I request it, but at least 3 formal '\n",
            " 'meetings At least 8 times a year, which should include 3 formal meetings Up '\n",
            " 'to 8 times a year, which should include 3 formal meetings Test: Code of '\n",
            " 'Practice You are supervising a full-time student and she has told you that '\n",
            " 'she has received an offer to teach with a colleague in your School this '\n",
            " 'year.  Do you? (please select one answer) Congratulate her and suggest that '\n",
            " 'she teaches your second-year undergraduate course as well (about 6 hours per '\n",
            " 'week) Congratulate her and ask her to check with your colleague how many '\n",
            " 'hours she will be teaching each week')\n"
          ],
          "name": "stdout"
        }
      ]
    },
    {
      "cell_type": "code",
      "metadata": {
        "id": "cPp2xLatn1D1",
        "outputId": "c930efb9-6919-4cea-fa96-5cbd94b1f4d3",
        "colab": {
          "base_uri": "https://localhost:8080/",
          "height": 34
        }
      },
      "source": [
        "type(res)"
      ],
      "execution_count": 9,
      "outputs": [
        {
          "output_type": "execute_result",
          "data": {
            "text/plain": [
              "str"
            ]
          },
          "metadata": {
            "tags": []
          },
          "execution_count": 9
        }
      ]
    },
    {
      "cell_type": "code",
      "metadata": {
        "id": "ACgkRh41pGvE"
      },
      "source": [
        "with open(\"td_01.txt\", \"w\") as text_file:\n",
        "    text_file.write(res)"
      ],
      "execution_count": 13,
      "outputs": []
    }
  ]
}