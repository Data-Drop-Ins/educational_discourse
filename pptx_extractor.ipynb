{
  "nbformat": 4,
  "nbformat_minor": 0,
  "metadata": {
    "colab": {
      "name": "pptx_extractor.ipynb",
      "provenance": [],
      "collapsed_sections": [],
      "authorship_tag": "ABX9TyPvQt/0FXRlt0aDwRoW96My",
      "include_colab_link": true
    },
    "kernelspec": {
      "name": "python3",
      "display_name": "Python 3"
    }
  },
  "cells": [
    {
      "cell_type": "markdown",
      "metadata": {
        "id": "view-in-github",
        "colab_type": "text"
      },
      "source": [
        "<a href=\"https://colab.research.google.com/github/matthewsillence/educational_discourse/blob/master/pptx_extractor.ipynb\" target=\"_parent\"><img src=\"https://colab.research.google.com/assets/colab-badge.svg\" alt=\"Open In Colab\"/></a>"
      ]
    },
    {
      "cell_type": "code",
      "metadata": {
        "id": "yxy-8OE1WshG",
        "outputId": "5af0ea4b-0363-4c02-ca21-17cbc75e219f",
        "colab": {
          "base_uri": "https://localhost:8080/",
          "height": 292
        }
      },
      "source": [
        "!pip install python-pptx"
      ],
      "execution_count": 1,
      "outputs": [
        {
          "output_type": "stream",
          "text": [
            "Collecting python-pptx\n",
            "\u001b[?25l  Downloading https://files.pythonhosted.org/packages/bf/86/eb979f7b0333ec769041aae36df8b9f1bd8bea5bbad44620663890dce561/python-pptx-0.6.18.tar.gz (8.9MB)\n",
            "\u001b[K     |████████████████████████████████| 8.9MB 7.4MB/s \n",
            "\u001b[?25hRequirement already satisfied: lxml>=3.1.0 in /usr/local/lib/python3.6/dist-packages (from python-pptx) (4.2.6)\n",
            "Requirement already satisfied: Pillow>=3.3.2 in /usr/local/lib/python3.6/dist-packages (from python-pptx) (7.0.0)\n",
            "Collecting XlsxWriter>=0.5.7\n",
            "\u001b[?25l  Downloading https://files.pythonhosted.org/packages/6b/41/bf1aae04932d1eaffee1fc5f8b38ca47bbbf07d765129539bc4bcce1ce0c/XlsxWriter-1.3.7-py2.py3-none-any.whl (144kB)\n",
            "\u001b[K     |████████████████████████████████| 153kB 71.7MB/s \n",
            "\u001b[?25hBuilding wheels for collected packages: python-pptx\n",
            "  Building wheel for python-pptx (setup.py) ... \u001b[?25l\u001b[?25hdone\n",
            "  Created wheel for python-pptx: filename=python_pptx-0.6.18-cp36-none-any.whl size=275707 sha256=0df50ba3e81cb9949c9d13cf53d86d454bfa21703756d53593749520cabba232\n",
            "  Stored in directory: /root/.cache/pip/wheels/1f/1f/2c/29acca422b420a0b5210bd2cd7e9669804520d602d2462f20b\n",
            "Successfully built python-pptx\n",
            "Installing collected packages: XlsxWriter, python-pptx\n",
            "Successfully installed XlsxWriter-1.3.7 python-pptx-0.6.18\n"
          ],
          "name": "stdout"
        }
      ]
    },
    {
      "cell_type": "code",
      "metadata": {
        "id": "Sp2kSPEvXwM6"
      },
      "source": [
        "import pptx"
      ],
      "execution_count": 2,
      "outputs": []
    },
    {
      "cell_type": "code",
      "metadata": {
        "id": "ifQxAN2JXBX8"
      },
      "source": [
        "from pptx import Presentation\n",
        "\n",
        "prs = Presentation('/content/Why is effective supervision vital.pptx')\n",
        "\n",
        "# text_runs will be populated with a list of strings,\n",
        "# one for each text run in presentation\n",
        "why = []\n",
        "\n",
        "for slide in prs.slides:\n",
        "    for shape in slide.shapes:\n",
        "        if not shape.has_text_frame:\n",
        "            continue\n",
        "        for paragraph in shape.text_frame.paragraphs:\n",
        "            for run in paragraph.runs:\n",
        "                why.append(run.text)"
      ],
      "execution_count": 16,
      "outputs": []
    },
    {
      "cell_type": "code",
      "metadata": {
        "id": "UOJAIvlYYb-h"
      },
      "source": [
        "import pprint"
      ],
      "execution_count": 17,
      "outputs": []
    },
    {
      "cell_type": "code",
      "metadata": {
        "id": "ZA8nudf8YYa7"
      },
      "source": [
        "pprint.pprint(why)"
      ],
      "execution_count": null,
      "outputs": []
    },
    {
      "cell_type": "code",
      "metadata": {
        "id": "m5271IoQYjcC",
        "outputId": "fe98368d-2cec-4adc-f98d-0812147d06bb",
        "colab": {
          "base_uri": "https://localhost:8080/",
          "height": 34
        }
      },
      "source": [
        "type(why)"
      ],
      "execution_count": 19,
      "outputs": [
        {
          "output_type": "execute_result",
          "data": {
            "text/plain": [
              "list"
            ]
          },
          "metadata": {
            "tags": []
          },
          "execution_count": 19
        }
      ]
    },
    {
      "cell_type": "code",
      "metadata": {
        "id": "QONHyoNvnWvo"
      },
      "source": [
        "inp_list = why\n",
        " \n",
        "td_01 = ' '.join([str(item) for item in inp_list]) \n",
        "print(\"Converting list to atring using List Comprehension:\\n\")\n",
        "pprint.pprint(td_01) "
      ],
      "execution_count": null,
      "outputs": []
    },
    {
      "cell_type": "code",
      "metadata": {
        "id": "cPp2xLatn1D1",
        "outputId": "d11e27d0-bc98-46de-b79b-b61080c7861c",
        "colab": {
          "base_uri": "https://localhost:8080/",
          "height": 34
        }
      },
      "source": [
        "type(td_01)"
      ],
      "execution_count": 22,
      "outputs": [
        {
          "output_type": "execute_result",
          "data": {
            "text/plain": [
              "str"
            ]
          },
          "metadata": {
            "tags": []
          },
          "execution_count": 22
        }
      ]
    },
    {
      "cell_type": "code",
      "metadata": {
        "id": "ACgkRh41pGvE"
      },
      "source": [
        "with open(\"td_01.txt\", \"w\") as text_file:\n",
        "    text_file.write(td_01)"
      ],
      "execution_count": 23,
      "outputs": []
    },
    {
      "cell_type": "code",
      "metadata": {
        "id": "xzOjUicCrkNH"
      },
      "source": [
        "from pptx import Presentation\n",
        "\n",
        "prs = Presentation('/content/Key events and potential problems.pptx')\n",
        "\n",
        "# key_events will be populated with a list of strings,\n",
        "# one for each text run in presentation\n",
        "key_events = []\n",
        "\n",
        "for slide in prs.slides:\n",
        "    for shape in slide.shapes:\n",
        "        if not shape.has_text_frame:\n",
        "            continue\n",
        "        for paragraph in shape.text_frame.paragraphs:\n",
        "            for run in paragraph.runs:\n",
        "                key_events.append(run.text)"
      ],
      "execution_count": 25,
      "outputs": []
    },
    {
      "cell_type": "code",
      "metadata": {
        "id": "VR6WNmvSr0TO"
      },
      "source": [
        "pprint.pprint(key_events)"
      ],
      "execution_count": null,
      "outputs": []
    },
    {
      "cell_type": "code",
      "metadata": {
        "id": "NTb_VRBftBuV"
      },
      "source": [
        "inp_list = key_events\n",
        " \n",
        "td_02 = ' '.join([str(item) for item in inp_list]) \n",
        "print(\"Converting list to atring using List Comprehension:\\n\")\n",
        "pprint.pprint(td_02) "
      ],
      "execution_count": null,
      "outputs": []
    },
    {
      "cell_type": "code",
      "metadata": {
        "id": "x9nYx_1Gs1HG"
      },
      "source": [
        "with open(\"td_02.txt\", \"w\") as text_file:\n",
        "    text_file.write(td_02)"
      ],
      "execution_count": 30,
      "outputs": []
    },
    {
      "cell_type": "code",
      "metadata": {
        "id": "lJyfSIKDt1Qz"
      },
      "source": [
        "from pptx import Presentation\n",
        "\n",
        "prs = Presentation('/content/Recent and forthcoming changes.pptx')\n",
        "\n",
        "# recent_changes will be populated with a list of strings,\n",
        "# one for each text run in presentation\n",
        "recent_changes = []\n",
        "\n",
        "for slide in prs.slides:\n",
        "    for shape in slide.shapes:\n",
        "        if not shape.has_text_frame:\n",
        "            continue\n",
        "        for paragraph in shape.text_frame.paragraphs:\n",
        "            for run in paragraph.runs:\n",
        "                recent_changes.append(run.text)"
      ],
      "execution_count": 32,
      "outputs": []
    },
    {
      "cell_type": "code",
      "metadata": {
        "id": "P5oCME_euD2D"
      },
      "source": [
        "pprint.pprint(recent_changes)"
      ],
      "execution_count": null,
      "outputs": []
    },
    {
      "cell_type": "code",
      "metadata": {
        "id": "Y9s0sBTruMOW"
      },
      "source": [
        "inp_list = recent_changes\n",
        " \n",
        "td_03 = ' '.join([str(item) for item in inp_list]) \n",
        "print(\"Converting list to atring using List Comprehension:\\n\")\n",
        "pprint.pprint(td_03) "
      ],
      "execution_count": null,
      "outputs": []
    },
    {
      "cell_type": "code",
      "metadata": {
        "id": "NX8gTL-RuR5b"
      },
      "source": [
        "with open(\"td_03.txt\", \"w\") as text_file:\n",
        "    text_file.write(td_03)"
      ],
      "execution_count": 35,
      "outputs": []
    },
    {
      "cell_type": "code",
      "metadata": {
        "id": "A4_L53Q0uZPI"
      },
      "source": [
        "from pptx import Presentation\n",
        "\n",
        "prs = Presentation('/content/Supervisor PPD.pptx')\n",
        "\n",
        "# ppd will be populated with a list of strings,\n",
        "# one for each text run in presentation\n",
        "ppd = []\n",
        "\n",
        "for slide in prs.slides:\n",
        "    for shape in slide.shapes:\n",
        "        if not shape.has_text_frame:\n",
        "            continue\n",
        "        for paragraph in shape.text_frame.paragraphs:\n",
        "            for run in paragraph.runs:\n",
        "                ppd.append(run.text)"
      ],
      "execution_count": 38,
      "outputs": []
    },
    {
      "cell_type": "code",
      "metadata": {
        "id": "dBhWPtseu3zM",
        "outputId": "10528152-32fb-41c5-a6f6-b4d67781901b",
        "colab": {
          "base_uri": "https://localhost:8080/",
          "height": 1000
        }
      },
      "source": [
        "pprint.pprint(ppd)"
      ],
      "execution_count": 39,
      "outputs": [
        {
          "output_type": "stream",
          "text": [
            "['Postgraduate Research Supervisor Workshop Online Session',\n",
            " 'Part Four:',\n",
            " 'Personal and Professional Development (PPD)',\n",
            " 'Introduction',\n",
            " 'This presentation will take 10 minutes.',\n",
            " 'You can pause and replay parts of the presentation at any time.',\n",
            " 'The presentation will provide an overview of key information relating to '\n",
            " 'supervisory practices and there will be a chance to test your knowledge as '\n",
            " 'you progress.',\n",
            " 'Why PPD?',\n",
            " '‘SET for Success’ ',\n",
            " 'report by Sir Gareth Roberts (published 2002), recommended that researchers '\n",
            " 'undertake ',\n",
            " 'two weeks ',\n",
            " 'of training and development activities to support their research and future '\n",
            " 'careers.  ',\n",
            " 'These recommendations of engagement with training activities continue to be '\n",
            " 'an expectation of ',\n",
            " 'Research Councils UK (RCUK)',\n",
            " '.',\n",
            " 'Students are responsible for devising their own training plans tailored to '\n",
            " 'their needs.',\n",
            " 'PPD Requirements',\n",
            " 'All postgraduate researchers are expected to actively participate in the '\n",
            " 'training programme.',\n",
            " 'Supervisors are expected to support their students in developing their '\n",
            " 'personal skills and employability.',\n",
            " 'It is an expectation that researchers will secure ',\n",
            " '30 PPD credits ',\n",
            " 'over the period of their registration.  This is the equivalent of 10 credits '\n",
            " 'per year (full-time study) or 5 credits per year (part-time study).',\n",
            " 'PPD Credits',\n",
            " 'Credits are used to record time commitment to formal training activities and '\n",
            " 'other development activities undertaken by the researcher.',\n",
            " 'Half a day of training activities is equivalent to 0.5 credits.',\n",
            " 'External training and experiential learning (such as conferences and '\n",
            " 'workshops) may be eligible for credits.  ',\n",
            " 'Researcher Development Framework (RDF) – ',\n",
            " 'www.vitae.ac.auk',\n",
            " ' ',\n",
            " 'The Researcher Development Framework ‘',\n",
            " 'articulates the knowledge, behaviours and attributes of successful '\n",
            " 'researchers and encourages them to aspire to excellence through achieving '\n",
            " 'higher levels of development.’',\n",
            " 'The PPD programmes are structured to target these knowledge, behaviours and '\n",
            " 'attributes.',\n",
            " 'Researcher Development Framework (RDF)',\n",
            " 'Each course draws on one or more key domains:',\n",
            " 'Domain A: Knowledge and Intellectual Abilities',\n",
            " 'Domain B: Personal Effectiveness',\n",
            " 'Domain C: Research Governance and Organisation',\n",
            " 'Domain D: Engagement, Influence and Impact',\n",
            " 'Key Information for Students',\n",
            " 'Training',\n",
            " 'www.uea.ac.uk/hum/gradschool/training',\n",
            " ' ',\n",
            " 'Students can:',\n",
            " 'View the PPD Requirements for MPhil and PhD',\n",
            " 'Plan their development as a researcher',\n",
            " 'Learn about the Researcher Development Framework',\n",
            " 'Learn about Faculty training credits',\n",
            " 'Search for and enrol on courses through e:Vision',\n",
            " 'Obtain forms to record their activities',\n",
            " 'Training and Development Record',\n",
            " 'At the beginning of the academic year, students are encouraged to download '\n",
            " 'the Training and Development Record to assess their training needs, '\n",
            " 'detailing which activities they are planning to undertake.  ',\n",
            " 'The form also provides a record of recent completed training.',\n",
            " 'School Seminar Attendance Form',\n",
            " 'The School Seminar Attendance Form allows students to log regular attendance '\n",
            " 'at School-based research seminars to obtain credits.',\n",
            " 'The seminar organiser will initial the form confirm that it has been seen. '\n",
            " 'The form is submitted as part of the Annual Review training record.',\n",
            " 'Training Credits Record Sheet',\n",
            " 'For activities outside the formal PPD programme and School research '\n",
            " 'seminars.',\n",
            " 'A framework of credit equivalents can be found in the PPD brochure, but the '\n",
            " 'student must provide details of the development activity. ',\n",
            " 'At the Annual Review, the supervisor must check and sign and date the form.',\n",
            " 'Guidance for Students on Training Activities',\n",
            " 'Students should discuss their training needs with their supervisor(s) as '\n",
            " 'part of the Annual Review process.  ',\n",
            " 'If you or your student requires guidance in planning training activities, '\n",
            " 'you are welcome to make an appointment by emailing',\n",
            " ' ',\n",
            " 'm.sillence@uea.ac.uk',\n",
            " '. ',\n",
            " 'Test your knowledge',\n",
            " 'In this next section, you will be presented with a series of questions '\n",
            " 'relating to this section',\n",
            " 'Follow the instructions on screen to select your answer',\n",
            " 'At the end of the test you will have the option to review your answers '\n",
            " '(click ‘Next’ to move through each question)',\n",
            " 'When you have finished reviewing your answers click on ‘Continue’ to '\n",
            " 'complete the test and return to the presentation',\n",
            " 'End of section',\n",
            " 'This concludes part four of this course.  If you have taken all four parts '\n",
            " 'of the online training, the course is now complete.',\n",
            " 'Please close this window and return to the Online Training section in the '\n",
            " 'Blackboard Module.',\n",
            " 'If you have not already done so, you will need to attend the next '\n",
            " 'class-based workshop – contact Dr Matthew Sillence for further information.',\n",
            " 'Test: expectations of PPD',\n",
            " 'Which of the following statements is true? (please select one answer)',\n",
            " 'PPD participation is only required of  research council funded PGR students',\n",
            " 'PPD participation is only required of PGR students who have ',\n",
            " 'not',\n",
            " ' had a career before applying to study at the University',\n",
            " 'PPD participation is required of all PGR students ',\n",
            " 'Test: PPD credits',\n",
            " 'A part-time PGR student is expected to attain… (please select one answer)',\n",
            " 'At least 10 PPD credits per year',\n",
            " 'Up to 10 PPD credits per year',\n",
            " 'At least 5 PPD credits per year',\n",
            " 'Up to 5 PPD credits per year',\n",
            " 'Test: PPD and progress',\n",
            " 'You should review your student’s PPD progress… (please select one answer)',\n",
            " 'At least once a month',\n",
            " 'At your first supervisory meeting and before the student submits the thesis',\n",
            " 'At your first supervisory meeting and at least once a year (Annual Progress '\n",
            " 'Review)']\n"
          ],
          "name": "stdout"
        }
      ]
    },
    {
      "cell_type": "code",
      "metadata": {
        "id": "PRn6q2p_u-gR",
        "outputId": "c60a9942-1d3f-4b6f-8968-e2dc3e00eb4e",
        "colab": {
          "base_uri": "https://localhost:8080/",
          "height": 1000
        }
      },
      "source": [
        "inp_list = ppd\n",
        " \n",
        "td_04 = ' '.join([str(item) for item in inp_list]) \n",
        "print(\"Converting list to atring using List Comprehension:\\n\")\n",
        "pprint.pprint(td_04) "
      ],
      "execution_count": 40,
      "outputs": [
        {
          "output_type": "stream",
          "text": [
            "Converting list to atring using List Comprehension:\n",
            "\n",
            "('Postgraduate Research Supervisor Workshop Online Session Part Four: Personal '\n",
            " 'and Professional Development (PPD) Introduction This presentation will take '\n",
            " '10 minutes. You can pause and replay parts of the presentation at any time. '\n",
            " 'The presentation will provide an overview of key information relating to '\n",
            " 'supervisory practices and there will be a chance to test your knowledge as '\n",
            " 'you progress. Why PPD? ‘SET for Success’  report by Sir Gareth Roberts '\n",
            " '(published 2002), recommended that researchers undertake  two weeks  of '\n",
            " 'training and development activities to support their research and future '\n",
            " 'careers.   These recommendations of engagement with training activities '\n",
            " 'continue to be an expectation of  Research Councils UK (RCUK) . Students are '\n",
            " 'responsible for devising their own training plans tailored to their needs. '\n",
            " 'PPD Requirements All postgraduate researchers are expected to actively '\n",
            " 'participate in the training programme. Supervisors are expected to support '\n",
            " 'their students in developing their personal skills and employability. It is '\n",
            " 'an expectation that researchers will secure  30 PPD credits  over the period '\n",
            " 'of their registration.  This is the equivalent of 10 credits per year '\n",
            " '(full-time study) or 5 credits per year (part-time study). PPD Credits '\n",
            " 'Credits are used to record time commitment to formal training activities and '\n",
            " 'other development activities undertaken by the researcher. Half a day of '\n",
            " 'training activities is equivalent to 0.5 credits. External training and '\n",
            " 'experiential learning (such as conferences and workshops) may be eligible '\n",
            " 'for credits.   Researcher Development Framework (RDF) –  www.vitae.ac.auk   '\n",
            " 'The Researcher Development Framework ‘ articulates the knowledge, behaviours '\n",
            " 'and attributes of successful researchers and encourages them to aspire to '\n",
            " 'excellence through achieving higher levels of development.’ The PPD '\n",
            " 'programmes are structured to target these knowledge, behaviours and '\n",
            " 'attributes. Researcher Development Framework (RDF) Each course draws on one '\n",
            " 'or more key domains: Domain A: Knowledge and Intellectual Abilities Domain '\n",
            " 'B: Personal Effectiveness Domain C: Research Governance and Organisation '\n",
            " 'Domain D: Engagement, Influence and Impact Key Information for Students '\n",
            " 'Training www.uea.ac.uk/hum/gradschool/training   Students can: View the PPD '\n",
            " 'Requirements for MPhil and PhD Plan their development as a researcher Learn '\n",
            " 'about the Researcher Development Framework Learn about Faculty training '\n",
            " 'credits Search for and enrol on courses through e:Vision Obtain forms to '\n",
            " 'record their activities Training and Development Record At the beginning of '\n",
            " 'the academic year, students are encouraged to download the Training and '\n",
            " 'Development Record to assess their training needs, detailing which '\n",
            " 'activities they are planning to undertake.   The form also provides a record '\n",
            " 'of recent completed training. School Seminar Attendance Form The School '\n",
            " 'Seminar Attendance Form allows students to log regular attendance at '\n",
            " 'School-based research seminars to obtain credits. The seminar organiser will '\n",
            " 'initial the form confirm that it has been seen. The form is submitted as '\n",
            " 'part of the Annual Review training record. Training Credits Record Sheet For '\n",
            " 'activities outside the formal PPD programme and School research seminars. A '\n",
            " 'framework of credit equivalents can be found in the PPD brochure, but the '\n",
            " 'student must provide details of the development activity.  At the Annual '\n",
            " 'Review, the supervisor must check and sign and date the form. Guidance for '\n",
            " 'Students on Training Activities Students should discuss their training needs '\n",
            " 'with their supervisor(s) as part of the Annual Review process.   If you or '\n",
            " 'your student requires guidance in planning training activities, you are '\n",
            " 'welcome to make an appointment by emailing   m.sillence@uea.ac.uk .  Test '\n",
            " 'your knowledge In this next section, you will be presented with a series of '\n",
            " 'questions relating to this section Follow the instructions on screen to '\n",
            " 'select your answer At the end of the test you will have the option to review '\n",
            " 'your answers (click ‘Next’ to move through each question) When you have '\n",
            " 'finished reviewing your answers click on ‘Continue’ to complete the test and '\n",
            " 'return to the presentation End of section This concludes part four of this '\n",
            " 'course.  If you have taken all four parts of the online training, the course '\n",
            " 'is now complete. Please close this window and return to the Online Training '\n",
            " 'section in the Blackboard Module. If you have not already done so, you will '\n",
            " 'need to attend the next class-based workshop – contact Dr Matthew Sillence '\n",
            " 'for further information. Test: expectations of PPD Which of the following '\n",
            " 'statements is true? (please select one answer) PPD participation is only '\n",
            " 'required of  research council funded PGR students PPD participation is only '\n",
            " 'required of PGR students who have  not  had a career before applying to '\n",
            " 'study at the University PPD participation is required of all PGR students  '\n",
            " 'Test: PPD credits A part-time PGR student is expected to attain… (please '\n",
            " 'select one answer) At least 10 PPD credits per year Up to 10 PPD credits per '\n",
            " 'year At least 5 PPD credits per year Up to 5 PPD credits per year Test: PPD '\n",
            " 'and progress You should review your student’s PPD progress… (please select '\n",
            " 'one answer) At least once a month At your first supervisory meeting and '\n",
            " 'before the student submits the thesis At your first supervisory meeting and '\n",
            " 'at least once a year (Annual Progress Review)')\n"
          ],
          "name": "stdout"
        }
      ]
    },
    {
      "cell_type": "code",
      "metadata": {
        "id": "-TKLNEYevJ2t"
      },
      "source": [
        "with open(\"td_04.txt\", \"w\") as text_file:\n",
        "    text_file.write(td_04)"
      ],
      "execution_count": 41,
      "outputs": []
    }
  ]
}